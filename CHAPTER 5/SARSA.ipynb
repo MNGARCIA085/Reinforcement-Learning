{
 "cells": [
  {
   "cell_type": "markdown",
   "id": "d8955cf3",
   "metadata": {},
   "source": [
    "# <font color='blue'> <center> SARSA </center> </font>\n",
    "\n",
    "<div style=\"text-align:center\">\n",
    "    In this notebook we are going to implement a method that learns from experience and uses bootstrapping.\n",
    "    It is known as SARSA because of the elements involved in the update rule:\n",
    "</div>\n",
    "\n",
    "\\begin{equation}\n",
    "\\text{State}_t, \\text{Action}_t, \\text{Reward}_t, \\text{State}_{t+1}, \\text{Action}_{t+1}\n",
    "\\end{equation}\n",
    "\n",
    "<br>\n",
    "\n",
    "<div style=\"text-align:center\">\n",
    "    This method follows an on-policy strategy, in which the same policy that is optimized is responsible for scanning the environment.\n",
    "</div>"
   ]
  },
  {
   "cell_type": "markdown",
   "id": "c677be0c",
   "metadata": {},
   "source": [
    "## <font color='#2874A6'> Tabla de Contenido </font>\n",
    "\n",
    "1. [Modules](#1)\n",
    "2. [Setup Code](#2)\n",
    "3. [Algorithm](#3)"
   ]
  },
  {
   "cell_type": "markdown",
   "id": "4573965b",
   "metadata": {},
   "source": [
    "<a name=\"1\"></a>\n",
    "## <font color='#0E6655'> 1. Modules </font> "
   ]
  },
  {
   "cell_type": "code",
   "execution_count": null,
   "id": "206ebab2",
   "metadata": {},
   "outputs": [],
   "source": []
  }
 ],
 "metadata": {
  "kernelspec": {
   "display_name": "Python 3 (ipykernel)",
   "language": "python",
   "name": "python3"
  },
  "language_info": {
   "codemirror_mode": {
    "name": "ipython",
    "version": 3
   },
   "file_extension": ".py",
   "mimetype": "text/x-python",
   "name": "python",
   "nbconvert_exporter": "python",
   "pygments_lexer": "ipython3",
   "version": "3.10.12"
  }
 },
 "nbformat": 4,
 "nbformat_minor": 5
}
