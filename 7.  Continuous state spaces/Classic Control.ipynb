{
 "cells": [
  {
   "cell_type": "markdown",
   "id": "a998d01b",
   "metadata": {},
   "source": [
    "# <font color='blue'> <center> Classic Control: Control theory problems from the classic RL literature </center> </font>\n",
    "\n",
    "<br><br>\n",
    "\n",
    "In this notebook we will present some classic environments in Reinforcement Learning research. These environments have continuous states spaces (i.e., infinite possible states) and therefore tabular methods cannot solve them. To tackle these environments (and more complex ones) we will have two tools:\n",
    "\n",
    "- Extend the tabular methods with the techniques of discretization and tile coding\n",
    "- Use function approximators (Neural Networks)\n",
    "\n",
    "<br>"
   ]
  },
  {
   "cell_type": "markdown",
   "id": "057724a5",
   "metadata": {},
   "source": [
    "## <font color='#2874A6'> Tabla de Contenido </font>\n",
    "\n",
    "1. [Modules](#1)\n",
    "2. [Auxiliary Functions](#2)\n",
    "3. [Examples](#3)\n",
    "    - 3.1. [CartPole](#3.1)\n",
    "    - 3.2. [Acrobot](#3.2)\n",
    "    - 3.3. [Mountain Car](#3.3)\n",
    "    - 3.4. [Pendulum](#3.4)"
   ]
  },
  {
   "cell_type": "markdown",
   "id": "1664235c",
   "metadata": {},
   "source": [
    "<a name=\"1\"></a>\n",
    "## <font color='#0E6655'> 1. Modules </font> "
   ]
  },
  {
   "cell_type": "code",
   "execution_count": 2,
   "id": "322a4b6e",
   "metadata": {},
   "outputs": [],
   "source": [
    "#!pip install -qq gym==0.23.0\n",
    "\n",
    "\n",
    "import matplotlib\n",
    "from matplotlib import animation\n",
    "from IPython.display import HTML\n",
    "\n",
    "import gym\n",
    "import numpy as np\n",
    "from IPython import display\n",
    "from matplotlib import pyplot as plt\n",
    "%matplotlib inline"
   ]
  },
  {
   "cell_type": "markdown",
   "id": "44f31787",
   "metadata": {},
   "source": [
    "<a name=\"2\"></a>\n",
    "## <font color='#0E6655'> 2. Auxiliary Functions </font> "
   ]
  },
  {
   "cell_type": "code",
   "execution_count": 3,
   "id": "7e2b8f50",
   "metadata": {},
   "outputs": [],
   "source": [
    "def display_video(frames):\n",
    "    # Copied from: https://colab.research.google.com/github/deepmind/dm_control/blob/master/tutorial.ipynb\n",
    "    orig_backend = matplotlib.get_backend()\n",
    "    matplotlib.use('Agg')\n",
    "    fig, ax = plt.subplots(1, 1, figsize=(5, 5))\n",
    "    matplotlib.use(orig_backend)\n",
    "    ax.set_axis_off()\n",
    "    ax.set_aspect('equal')\n",
    "    ax.set_position([0, 0, 1, 1])\n",
    "    im = ax.imshow(frames[0])\n",
    "    def update(frame):\n",
    "        im.set_data(frame)\n",
    "        return [im]\n",
    "    anim = animation.FuncAnimation(fig=fig, func=update, frames=frames,\n",
    "                                    interval=50, blit=True, repeat=False)\n",
    "    return HTML(anim.to_html5_video())\n",
    "\n",
    "\n",
    "def test_env(environment, episodes=10):\n",
    "    frames = []\n",
    "    for episode in range(episodes):\n",
    "        state = environment.reset()\n",
    "        done = False\n",
    "        frames.append(environment.render(mode=\"rgb_array\"))\n",
    "\n",
    "        while not done:\n",
    "            action = environment.action_space.sample()\n",
    "            next_state, reward, done, extra_info = environment.step(action)\n",
    "            img = environment.render(mode=\"rgb_array\")\n",
    "            frames.append(img)\n",
    "            state = next_state\n",
    "\n",
    "    return display_video(frames)"
   ]
  },
  {
   "cell_type": "markdown",
   "id": "d2d81da8",
   "metadata": {},
   "source": [
    "<a name=\"3\"></a>\n",
    "## <font color='#0E6655'> 3. Examples </font> "
   ]
  },
  {
   "cell_type": "markdown",
   "id": "1f34977d",
   "metadata": {},
   "source": [
    "<a name=\"3.1\"></a>\n",
    "### <font color='green'> 3.1. Cart Pole </font> \n",
    "\n",
    "El carro se mueve horizontalmente y el objetivo es mantener la barra vertical.\n",
    "\n",
    "Cuando pasa del ángulo máximo termina la tarea."
   ]
  },
  {
   "cell_type": "code",
   "execution_count": 4,
   "id": "7877dbdb",
   "metadata": {},
   "outputs": [],
   "source": [
    "env = gym.make('CartPole-v1')\n",
    "test_env(env, 1)\n",
    "env.close()"
   ]
  },
  {
   "cell_type": "markdown",
   "id": "047c58e7",
   "metadata": {},
   "source": [
    "El estado está formado por:\n",
    "\n",
    "- La posición del carro\n",
    "- La velocidad del carro\n",
    "- El ángulo del palo en radianes\n",
    "- La velocidad angular del palo"
   ]
  },
  {
   "cell_type": "markdown",
   "id": "a48a81b2",
   "metadata": {},
   "source": [
    "##### The state\n",
    "\n",
    "The states of the cartpole task will be represented by a vector of four real numbers:\n",
    "\n",
    "        Num     Observation               Min                     Max\n",
    "        0       Cart Position             -4.8                    4.8\n",
    "        1       Cart Velocity             -Inf                    Inf\n",
    "        2       Pole Angle                -0.418 rad (-24 deg)    0.418 rad (24 deg)\n",
    "        3       Pole Angular Velocity     -Inf                    Inf"
   ]
  },
  {
   "cell_type": "code",
   "execution_count": 5,
   "id": "038f6f62",
   "metadata": {},
   "outputs": [
    {
     "data": {
      "text/plain": [
       "Box([-4.8000002e+00 -3.4028235e+38 -4.1887903e-01 -3.4028235e+38], [4.8000002e+00 3.4028235e+38 4.1887903e-01 3.4028235e+38], (4,), float32)"
      ]
     },
     "execution_count": 5,
     "metadata": {},
     "output_type": "execute_result"
    }
   ],
   "source": [
    "env.observation_space"
   ]
  },
  {
   "cell_type": "markdown",
   "id": "d59419e7",
   "metadata": {},
   "source": [
    "Las acciones posibles son:\n",
    "\n",
    "- Empujar el carro a la derecha\n",
    "- Empujar el carro a la izquierda"
   ]
  },
  {
   "cell_type": "markdown",
   "id": "170f3de1",
   "metadata": {},
   "source": [
    "##### The actions available\n",
    "\n",
    "We can perform two actions in this environment:\n",
    "\n",
    "        0     Push cart to the left.\n",
    "        1     Push cart to the right."
   ]
  },
  {
   "cell_type": "code",
   "execution_count": 6,
   "id": "64247ed8",
   "metadata": {},
   "outputs": [
    {
     "data": {
      "text/plain": [
       "Discrete(2)"
      ]
     },
     "execution_count": 6,
     "metadata": {},
     "output_type": "execute_result"
    }
   ],
   "source": [
    "env.action_space"
   ]
  },
  {
   "cell_type": "markdown",
   "id": "04a33791",
   "metadata": {},
   "source": [
    "Mientras lo mantengo la recompensa es positiva (quiero que esté vertical tanto como sea posible)."
   ]
  },
  {
   "cell_type": "markdown",
   "id": "910670a2",
   "metadata": {},
   "source": [
    "<a name=\"3.2\"></a>\n",
    "### <font color='green'> 3.2. Acrobot </font> \n",
    "\n",
    "Es un péndulo doble que se balancea, el objetivo es tocar una barra horizontal que se encuentra arriba."
   ]
  },
  {
   "cell_type": "code",
   "execution_count": 22,
   "id": "310676b3",
   "metadata": {},
   "outputs": [],
   "source": [
    "env = gym.make('Acrobot-v1')\n",
    "test_env(env, 1)\n",
    "env.close()"
   ]
  },
  {
   "cell_type": "markdown",
   "id": "de060a66",
   "metadata": {},
   "source": [
    "##### The state\n",
    "\n",
    "The states of the cartpole task will be represented by a vector of six real numbers. The first two are the cosine and sine of the first joint. The next two are the cosine and sine of the other joint. The last two are the angular velocities of each joint.\n",
    "    \n",
    "$\\cos(\\theta_1), \\sin(\\theta_1), \\cos(\\theta_2), \\sin(\\theta_2), \\dot\\theta_1, \\dot\\theta_2$"
   ]
  },
  {
   "cell_type": "code",
   "execution_count": 8,
   "id": "1c00f97c",
   "metadata": {},
   "outputs": [
    {
     "data": {
      "text/plain": [
       "Box([ -1.        -1.        -1.        -1.       -12.566371 -28.274334], [ 1.        1.        1.        1.       12.566371 28.274334], (6,), float32)"
      ]
     },
     "execution_count": 8,
     "metadata": {},
     "output_type": "execute_result"
    }
   ],
   "source": [
    "env.observation_space"
   ]
  },
  {
   "cell_type": "markdown",
   "id": "7274caa7",
   "metadata": {},
   "source": [
    "##### The actions available\n",
    "\n",
    "We can perform two actions in this environment:\n",
    "\n",
    "    0    Apply +1 torque on the joint between the links.\n",
    "    1    Apply -1 torque on the joint between the links."
   ]
  },
  {
   "cell_type": "code",
   "execution_count": 11,
   "id": "3f97e402",
   "metadata": {},
   "outputs": [
    {
     "data": {
      "text/plain": [
       "Discrete(3)"
      ]
     },
     "execution_count": 11,
     "metadata": {},
     "output_type": "execute_result"
    }
   ],
   "source": [
    "env.action_space"
   ]
  },
  {
   "cell_type": "markdown",
   "id": "739534fb",
   "metadata": {},
   "source": [
    "La recompensa será negativa mientras no lo logra."
   ]
  },
  {
   "cell_type": "markdown",
   "id": "ae1291cb",
   "metadata": {},
   "source": [
    "<a name=\"3.3\"></a>\n",
    "### <font color='green'> 3.3. MountainCar: Reach the goal from the bottom of the valley</font> \n",
    "\n",
    "Que el auto llegue a la meta marcada."
   ]
  },
  {
   "cell_type": "code",
   "execution_count": 13,
   "id": "9917ed3d",
   "metadata": {},
   "outputs": [],
   "source": [
    "env = gym.make('MountainCar-v0')\n",
    "test_env(env, 1)\n",
    "env.close()"
   ]
  },
  {
   "cell_type": "markdown",
   "id": "c84ef577",
   "metadata": {},
   "source": [
    "##### The state\n",
    "\n",
    "The observation space consists of the car position $\\in [-1.2, 0.6]$ and car velocity $\\in [-0.07, 0.07]$"
   ]
  },
  {
   "cell_type": "code",
   "execution_count": 15,
   "id": "b2e861c7",
   "metadata": {},
   "outputs": [
    {
     "data": {
      "text/plain": [
       "Box([-1.2  -0.07], [0.6  0.07], (2,), float32)"
      ]
     },
     "execution_count": 15,
     "metadata": {},
     "output_type": "execute_result"
    }
   ],
   "source": [
    "env.observation_space"
   ]
  },
  {
   "cell_type": "markdown",
   "id": "e612d6f6",
   "metadata": {},
   "source": [
    "##### The actions available\n",
    "\n",
    "\n",
    "The actions available three:\n",
    "\n",
    "    0    Accelerate to the left.\n",
    "    1    Don't accelerate.\n",
    "    2    Accelerate to the right."
   ]
  },
  {
   "cell_type": "code",
   "execution_count": 16,
   "id": "b8a0710a",
   "metadata": {},
   "outputs": [
    {
     "data": {
      "text/plain": [
       "Discrete(3)"
      ]
     },
     "execution_count": 16,
     "metadata": {},
     "output_type": "execute_result"
    }
   ],
   "source": [
    "env.action_space"
   ]
  },
  {
   "cell_type": "markdown",
   "id": "6f3c8667",
   "metadata": {},
   "source": [
    "La recompensa será negativa mientras no lo logre."
   ]
  },
  {
   "cell_type": "markdown",
   "id": "c6b4fd11",
   "metadata": {},
   "source": [
    "<a name=\"3.4\"></a>\n",
    "### <font color='green'> 3.4 Pendulum: swing it and keep it upright</font> \n",
    "\n",
    "El objetivo es que el péndule quede vertical.\n",
    "\n",
    "Es la única de las vistas que tiene acciones continuas.\n"
   ]
  },
  {
   "cell_type": "code",
   "execution_count": 17,
   "id": "16338e7a",
   "metadata": {},
   "outputs": [],
   "source": [
    "env = gym.make('Pendulum-v1')\n",
    "test_env(env, 1)\n",
    "env.close()"
   ]
  },
  {
   "cell_type": "markdown",
   "id": "416c176d",
   "metadata": {},
   "source": [
    "##### The state\n",
    "\n",
    "The state is represented by a vector of three values representing $\\cos(\\theta), \\sin(\\theta)$ and speed ($\\theta$ is the angle of the pendulum)."
   ]
  },
  {
   "cell_type": "code",
   "execution_count": 18,
   "id": "4a609bce",
   "metadata": {},
   "outputs": [
    {
     "data": {
      "text/plain": [
       "Box([-1. -1. -8.], [1. 1. 8.], (3,), float32)"
      ]
     },
     "execution_count": 18,
     "metadata": {},
     "output_type": "execute_result"
    }
   ],
   "source": [
    "env.observation_space"
   ]
  },
  {
   "cell_type": "markdown",
   "id": "c05e92fd",
   "metadata": {},
   "source": [
    "##### The actions available\n",
    "\n",
    "The action is a real number in the interval $[-2, 2]$ that represents the torque applied on the pendulum."
   ]
  },
  {
   "cell_type": "code",
   "execution_count": 20,
   "id": "55ad5eb0",
   "metadata": {},
   "outputs": [
    {
     "data": {
      "text/plain": [
       "Box(-2.0, 2.0, (1,), float32)"
      ]
     },
     "execution_count": 20,
     "metadata": {},
     "output_type": "execute_result"
    }
   ],
   "source": [
    "env.action_space"
   ]
  },
  {
   "cell_type": "markdown",
   "id": "4bf5f482",
   "metadata": {},
   "source": [
    "La recompensa será positiva mientras se mantenga vertical."
   ]
  },
  {
   "cell_type": "code",
   "execution_count": null,
   "id": "9aabe8b7",
   "metadata": {},
   "outputs": [],
   "source": []
  }
 ],
 "metadata": {
  "kernelspec": {
   "display_name": "Python 3 (ipykernel)",
   "language": "python",
   "name": "python3"
  },
  "language_info": {
   "codemirror_mode": {
    "name": "ipython",
    "version": 3
   },
   "file_extension": ".py",
   "mimetype": "text/x-python",
   "name": "python",
   "nbconvert_exporter": "python",
   "pygments_lexer": "ipython3",
   "version": "3.10.12"
  }
 },
 "nbformat": 4,
 "nbformat_minor": 5
}
